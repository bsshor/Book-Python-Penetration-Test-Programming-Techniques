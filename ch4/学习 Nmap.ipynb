{
 "cells": [
  {
   "cell_type": "markdown",
   "metadata": {},
   "source": [
    "# Nmap 主要功能\n",
    "1. 主机发现功能。向目标计算机发送信息，然后根据目标的反应来确定它是否处于开放并联网的状态\n",
    "\n",
    "2. 端口扫描。向目标计算机的指定端口发送信息，然后根据目标端口的反应判断它是否开放\n",
    "\n",
    "3. 服务及版本检测。向目标计算机的目标端口发送特制的信息，然后根据目标的反应来检测它运行服务的服务类型和版本\n",
    "\n",
    "4. 操作系统检测\n",
    "\n",
    "5. 其他高级功能，Nmap还实现一些高级的审计技术，例如，伪造发起扫描端的身份，进行隐蔽的扫描，规避目标的防御设备（例如防火墙），对系统进行安全漏洞检测，并提供完善的报告选项 在后来的不断发展中，随着Nmap强大的脚本引擎NSE的推出，任何人都可以自己向Nmap中添加新的功能模块"
   ]
  },
  {
   "cell_type": "markdown",
   "metadata": {},
   "source": [
    "# python-nmap\n",
    "官网：https://xael.org/\n",
    "\n",
    "python-nmap 模块的核心就是PortScanner、PortScannerAsync、PortScannerError、PortScannerHostDict、PortScannrYield 个类，其中最为重要的是PortScanner类。PortScannerAsync与PortScanner的功能相似，但是这个可以实现异步扫描"
   ]
  },
  {
   "cell_type": "markdown",
   "metadata": {},
   "source": [
    "# PortSacnner"
   ]
  },
  {
   "cell_type": "code",
   "execution_count": 51,
   "metadata": {},
   "outputs": [
    {
     "name": "stdout",
     "output_type": "stream",
     "text": [
      "\u001b[0;31mType:\u001b[0m           PortScanner\n",
      "\u001b[0;31mString form:\u001b[0m    <nmap.nmap.PortScanner object at 0x7f77f87a0670>\n",
      "\u001b[0;31mFile:\u001b[0m           /usr/local/lib/python3.9/dist-packages/nmap/nmap.py\n",
      "\u001b[0;31mDocstring:\u001b[0m      PortScanner class allows to use nmap from python\n",
      "\u001b[0;31mInit docstring:\u001b[0m\n",
      "Initialize PortScanner module\n",
      "\n",
      "* detects nmap on the system and nmap version\n",
      "* may raise PortScannerError exception if nmap is not found in the path\n",
      "\n",
      ":param nmap_search_path: tupple of string where to search for nmap executable.\n",
      "                         Change this if you want to use a specific version of nmap.\n",
      ":returns: nothing\n"
     ]
    }
   ],
   "source": [
    "import nmap\n",
    "nm = nmap.PortScanner()\n",
    "nm?"
   ]
  },
  {
   "cell_type": "code",
   "execution_count": 7,
   "metadata": {},
   "outputs": [
    {
     "name": "stdout",
     "output_type": "stream",
     "text": [
      "Help on PortScanner in module nmap.nmap object:\n",
      "\n",
      "class PortScanner(builtins.object)\n",
      " |  PortScanner(nmap_search_path=('nmap', '/usr/bin/nmap', '/usr/local/bin/nmap', '/sw/bin/nmap', '/opt/local/bin/nmap'))\n",
      " |  \n",
      " |  PortScanner class allows to use nmap from python\n",
      " |  \n",
      " |  Methods defined here:\n",
      " |  \n",
      " |  __getitem__(self, host)\n",
      " |      returns a host detail\n",
      " |  \n",
      " |  __init__(self, nmap_search_path=('nmap', '/usr/bin/nmap', '/usr/local/bin/nmap', '/sw/bin/nmap', '/opt/local/bin/nmap'))\n",
      " |      Initialize PortScanner module\n",
      " |      \n",
      " |      * detects nmap on the system and nmap version\n",
      " |      * may raise PortScannerError exception if nmap is not found in the path\n",
      " |      \n",
      " |      :param nmap_search_path: tupple of string where to search for nmap executable.\n",
      " |                               Change this if you want to use a specific version of nmap.\n",
      " |      :returns: nothing\n",
      " |  \n",
      " |  all_hosts(self)\n",
      " |      returns a sorted list of all hosts\n",
      " |  \n",
      " |  analyse_nmap_xml_scan(self, nmap_xml_output=None, nmap_err='', nmap_err_keep_trace='', nmap_warn_keep_trace='')\n",
      " |      Analyses NMAP xml scan ouput\n",
      " |      \n",
      " |      May raise PortScannerError exception if nmap output was not xml\n",
      " |      \n",
      " |      Test existance of the following key to know if something went wrong : ['nmap']['scaninfo']['error']\n",
      " |      If not present, everything was ok.\n",
      " |      \n",
      " |      :param nmap_xml_output: xml string to analyse\n",
      " |      :returns: scan_result as dictionnary\n",
      " |  \n",
      " |  command_line(self)\n",
      " |      returns command line used for the scan\n",
      " |      \n",
      " |      may raise AssertionError exception if called before scanning\n",
      " |  \n",
      " |  csv(self)\n",
      " |      returns CSV output as text\n",
      " |      \n",
      " |      Example :\n",
      " |      host;hostname;hostname_type;protocol;port;name;state;product;extrainfo;reason;version;conf;cpe\n",
      " |      127.0.0.1;localhost;PTR;tcp;22;ssh;open;OpenSSH;protocol 2.0;syn-ack;5.9p1 Debian 5ubuntu1;10;cpe\n",
      " |      127.0.0.1;localhost;PTR;tcp;23;telnet;closed;;;conn-refused;;3;\n",
      " |      127.0.0.1;localhost;PTR;tcp;24;priv-mail;closed;;;conn-refused;;3;\n",
      " |  \n",
      " |  get_nmap_last_output(self)\n",
      " |      Returns the last text output of nmap in raw text\n",
      " |      this may be used for debugging purpose\n",
      " |      \n",
      " |      :returns: string containing the last text output of nmap in raw text\n",
      " |  \n",
      " |  has_host(self, host)\n",
      " |      returns True if host has result, False otherwise\n",
      " |  \n",
      " |  listscan(self, hosts='127.0.0.1')\n",
      " |      do not scan but interpret target hosts and return a list a hosts\n",
      " |  \n",
      " |  nmap_version(self)\n",
      " |      returns nmap version if detected (int version, int subversion)\n",
      " |      or (0, 0) if unknown\n",
      " |      :returns: (nmap_version_number, nmap_subversion_number)\n",
      " |  \n",
      " |  scan(self, hosts='127.0.0.1', ports=None, arguments='-sV', sudo=False, timeout=0)\n",
      " |      Scan given hosts\n",
      " |      \n",
      " |      May raise PortScannerError exception if nmap output was not xml\n",
      " |      \n",
      " |      Test existance of the following key to know\n",
      " |      if something went wrong : ['nmap']['scaninfo']['error']\n",
      " |      If not present, everything was ok.\n",
      " |      \n",
      " |      :param hosts: string for hosts as nmap use it 'scanme.nmap.org' or '198.116.0-255.1-127' or '216.163.128.20/20'\n",
      " |      :param ports: string for ports as nmap use it '22,53,110,143-4564'\n",
      " |      :param arguments: string of arguments for nmap '-sU -sX -sC'\n",
      " |      :param sudo: launch nmap with sudo if True\n",
      " |      :param timeout: int, if > zero, will terminate scan after seconds, otherwise will wait indefintely\n",
      " |      \n",
      " |      :returns: scan_result as dictionnary\n",
      " |  \n",
      " |  scaninfo(self)\n",
      " |      returns scaninfo structure\n",
      " |      {'tcp': {'services': '22', 'method': 'connect'}}\n",
      " |      \n",
      " |      may raise AssertionError exception if called before scanning\n",
      " |  \n",
      " |  scanstats(self)\n",
      " |      returns scanstats structure\n",
      " |      {'uphosts': '3', 'timestr': 'Thu Jun  3 21:45:07 2010', 'downhosts': '253', 'totalhosts': '256', 'elapsed': '5.79'}  # NOQA: E501\n",
      " |      \n",
      " |      may raise AssertionError exception if called before scanning\n",
      " |  \n",
      " |  ----------------------------------------------------------------------\n",
      " |  Data descriptors defined here:\n",
      " |  \n",
      " |  __dict__\n",
      " |      dictionary for instance variables (if defined)\n",
      " |  \n",
      " |  __weakref__\n",
      " |      list of weak references to the object (if defined)\n",
      "\n"
     ]
    }
   ],
   "source": [
    "# 查询主要使用方法\n",
    "help(nm)"
   ]
  },
  {
   "cell_type": "markdown",
   "metadata": {},
   "source": [
    " ## scan 方法\n",
    " ```bash\n",
    " scan(self, hosts='127.0.0.1', ports=None, arguments='-sV', sudo=False, timeout=0)\n",
    " |      Scan given hosts\n",
    " |      \n",
    " |      May raise PortScannerError exception if nmap output was not xml\n",
    " |      \n",
    " |      Test existance of the following key to know\n",
    " |      if something went wrong : ['nmap']['scaninfo']['error']\n",
    " |      If not present, everything was ok.\n",
    " |      \n",
    " |      :param hosts: string for hosts as nmap use it 'scanme.nmap.org' or '198.116.0-255.1-127' or '216.163.128.20/20'\n",
    " |      :param ports: string for ports as nmap use it '22,53,110,143-4564'\n",
    " |      :param arguments: string of arguments for nmap '-sU -sX -sC'\n",
    " |      :param sudo: launch nmap with sudo if True\n",
    " |      :param timeout: int, if > zero, will terminate scan after seconds, otherwise will wait indefintely\n",
    " |      \n",
    " |      :returns: scan_result as dictionnary\n",
    " ```\n",
    " "
   ]
  },
  {
   "cell_type": "markdown",
   "metadata": {},
   "source": [
    "https://www.infosecmatter.com/why-does-nmap-need-root-privileges/\n",
    "\n",
    "Here’s an overview of all port scanning methods that Nmap supports and whether they require root privileges or not:\n",
    "\n",
    "|Option\t|Host discovery method|\tRequires root|\n",
    "|:---:|:---:|:----:|\n",
    "|-sT|\tTCP Connect scan\t|no|\n",
    "|-sS|\tTCP SYN / stealth / half-open scan\t|yes|\n",
    "|-sA|\tTCP ACK scan\t|yes|\n",
    "|-sW|\tTCP Window scan\t|yes|\n",
    "|-sM|\tTCP Maimon scan (FIN/ACK flags)\t|yes|\n",
    "|-sN|\tTCP Null scan (no flags)\t|yes|\n",
    "|-sF|\tTCP FIN scan\t|yes|\n",
    "|-sX|\tTCP Xmass scan (all flags)\t|yes|\n",
    "|-sI|\tTCP Zombie / Idle scan\t|yes|\n",
    "|-sY|\tSCTP INIT scan\t|yes|\n",
    "|-sZ|\tSCTP COOKIE ECHO scan\t|yes|\n",
    "|-sU|\tUDP scan\t|yes|\n",
    "|-sO|\tIP protocol scan\t|yes|\n",
    "|-sP|  使用ping对主机进行扫描|  |\n",
    "|-sV| 表示扫描目标上所安装网络服务软件的版本| |\n",
    "|-O | 表示扫描系统的操作系统类型 |   |\n",
    "\n",
    "Here’s an overview of all host discovery methods and whether they require root privileges or not:\n",
    "\n",
    "|Option\t|Host discovery method|\tRequires root|\n",
    "|:---:|:---:|:----:|\n",
    "|-PR\t|ARP Ping|\tno|\n",
    "|-PE\t|ICMP Echo (ping)|\tyes|\n",
    "|-PP\t|ICMP Timestamp|\tyes|\n",
    "|-PM\t|ICMP Netmask request|\tyes|\n",
    "|-PO\t|IP Protocol ping|\tyes|"
   ]
  },
  {
   "cell_type": "code",
   "execution_count": 9,
   "metadata": {},
   "outputs": [
    {
     "data": {
      "text/plain": [
       "{'nmap': {'command_line': 'nmap -oX - -p 1-500 -sS www.baidu.com',\n",
       "  'scaninfo': {'tcp': {'method': 'syn', 'services': '1-500'}},\n",
       "  'scanstats': {'timestr': 'Sun Oct  9 21:12:30 2022',\n",
       "   'elapsed': '3.96',\n",
       "   'uphosts': '1',\n",
       "   'downhosts': '0',\n",
       "   'totalhosts': '1'}},\n",
       " 'scan': {'14.215.177.38': {'hostnames': [{'name': 'www.baidu.com',\n",
       "     'type': 'user'}],\n",
       "   'addresses': {'ipv4': '14.215.177.38'},\n",
       "   'vendor': {},\n",
       "   'status': {'state': 'up', 'reason': 'reset'},\n",
       "   'tcp': {25: {'state': 'open',\n",
       "     'reason': 'syn-ack',\n",
       "     'name': 'smtp',\n",
       "     'product': '',\n",
       "     'version': '',\n",
       "     'extrainfo': '',\n",
       "     'conf': '3',\n",
       "     'cpe': ''},\n",
       "    80: {'state': 'open',\n",
       "     'reason': 'syn-ack',\n",
       "     'name': 'http',\n",
       "     'product': '',\n",
       "     'version': '',\n",
       "     'extrainfo': '',\n",
       "     'conf': '3',\n",
       "     'cpe': ''},\n",
       "    110: {'state': 'open',\n",
       "     'reason': 'syn-ack',\n",
       "     'name': 'pop3',\n",
       "     'product': '',\n",
       "     'version': '',\n",
       "     'extrainfo': '',\n",
       "     'conf': '3',\n",
       "     'cpe': ''},\n",
       "    443: {'state': 'open',\n",
       "     'reason': 'syn-ack',\n",
       "     'name': 'https',\n",
       "     'product': '',\n",
       "     'version': '',\n",
       "     'extrainfo': '',\n",
       "     'conf': '3',\n",
       "     'cpe': ''}}}}}"
      ]
     },
     "execution_count": 9,
     "metadata": {},
     "output_type": "execute_result"
    }
   ],
   "source": [
    "#  对百度1-500端口进行一次TCP半开扫描\n",
    "nm.scan(hosts=\"www.baidu.com\", ports=\"1-500\", arguments=\"-sS\")"
   ]
  },
  {
   "cell_type": "code",
   "execution_count": 10,
   "metadata": {},
   "outputs": [
    {
     "data": {
      "text/plain": [
       "['14.215.177.38']"
      ]
     },
     "execution_count": 10,
     "metadata": {},
     "output_type": "execute_result"
    }
   ],
   "source": [
    "nm.all_hosts()"
   ]
  },
  {
   "cell_type": "code",
   "execution_count": 11,
   "metadata": {},
   "outputs": [
    {
     "data": {
      "text/plain": [
       "{'tcp': {'method': 'syn', 'services': '1-500'}}"
      ]
     },
     "execution_count": 11,
     "metadata": {},
     "output_type": "execute_result"
    }
   ],
   "source": [
    "nm.scaninfo()"
   ]
  },
  {
   "cell_type": "code",
   "execution_count": 12,
   "metadata": {},
   "outputs": [
    {
     "data": {
      "text/plain": [
       "'nmap -oX - -p 1-500 -sS www.baidu.com'"
      ]
     },
     "execution_count": 12,
     "metadata": {},
     "output_type": "execute_result"
    }
   ],
   "source": [
    "nm.command_line()"
   ]
  },
  {
   "cell_type": "code",
   "execution_count": 15,
   "metadata": {},
   "outputs": [
    {
     "name": "stdout",
     "output_type": "stream",
     "text": [
      "\u001b[0;31mSignature:\u001b[0m \u001b[0mnm\u001b[0m\u001b[0;34m.\u001b[0m\u001b[0mcsv\u001b[0m\u001b[0;34m(\u001b[0m\u001b[0;34m)\u001b[0m\u001b[0;34m\u001b[0m\u001b[0;34m\u001b[0m\u001b[0m\n",
      "\u001b[0;31mDocstring:\u001b[0m\n",
      "returns CSV output as text\n",
      "\n",
      "Example :\n",
      "host;hostname;hostname_type;protocol;port;name;state;product;extrainfo;reason;version;conf;cpe\n",
      "127.0.0.1;localhost;PTR;tcp;22;ssh;open;OpenSSH;protocol 2.0;syn-ack;5.9p1 Debian 5ubuntu1;10;cpe\n",
      "127.0.0.1;localhost;PTR;tcp;23;telnet;closed;;;conn-refused;;3;\n",
      "127.0.0.1;localhost;PTR;tcp;24;priv-mail;closed;;;conn-refused;;3;\n",
      "\u001b[0;31mFile:\u001b[0m      /usr/local/lib/python3.9/dist-packages/nmap/nmap.py\n",
      "\u001b[0;31mType:\u001b[0m      method\n"
     ]
    }
   ],
   "source": [
    "?nm.csv"
   ]
  },
  {
   "cell_type": "code",
   "execution_count": 16,
   "metadata": {},
   "outputs": [
    {
     "data": {
      "text/plain": [
       "'host;hostname;hostname_type;protocol;port;name;state;product;extrainfo;reason;version;conf;cpe\\r\\n14.215.177.38;www.baidu.com;user;tcp;25;smtp;open;;;syn-ack;;3;\\r\\n14.215.177.38;www.baidu.com;user;tcp;80;http;open;;;syn-ack;;3;\\r\\n14.215.177.38;www.baidu.com;user;tcp;110;pop3;open;;;syn-ack;;3;\\r\\n14.215.177.38;www.baidu.com;user;tcp;443;https;open;;;syn-ack;;3;\\r\\n'"
      ]
     },
     "execution_count": 16,
     "metadata": {},
     "output_type": "execute_result"
    }
   ],
   "source": [
    "nm.csv()"
   ]
  },
  {
   "cell_type": "code",
   "execution_count": 17,
   "metadata": {},
   "outputs": [
    {
     "name": "stdout",
     "output_type": "stream",
     "text": [
      "host;hostname;hostname_type;protocol;port;name;state;product;extrainfo;reason;version;conf;cpe\n",
      "14.215.177.38;www.baidu.com;user;tcp;25;smtp;open;;;syn-ack;;3;\n",
      "14.215.177.38;www.baidu.com;user;tcp;80;http;open;;;syn-ack;;3;\n",
      "14.215.177.38;www.baidu.com;user;tcp;110;pop3;open;;;syn-ack;;3;\n",
      "14.215.177.38;www.baidu.com;user;tcp;443;https;open;;;syn-ack;;3;\n",
      "\n"
     ]
    }
   ],
   "source": [
    "print(nm.csv())"
   ]
  },
  {
   "cell_type": "code",
   "execution_count": 23,
   "metadata": {},
   "outputs": [
    {
     "name": "stdout",
     "output_type": "stream",
     "text": [
      "\u001b[0;31mSignature:\u001b[0m \u001b[0mnm\u001b[0m\u001b[0;34m.\u001b[0m\u001b[0mhas_host\u001b[0m\u001b[0;34m(\u001b[0m\u001b[0mhost\u001b[0m\u001b[0;34m)\u001b[0m\u001b[0;34m\u001b[0m\u001b[0;34m\u001b[0m\u001b[0m\n",
      "\u001b[0;31mDocstring:\u001b[0m returns True if host has result, False otherwise\n",
      "\u001b[0;31mFile:\u001b[0m      /usr/local/lib/python3.9/dist-packages/nmap/nmap.py\n",
      "\u001b[0;31mType:\u001b[0m      method\n"
     ]
    }
   ],
   "source": [
    "?nm.has_host"
   ]
  },
  {
   "cell_type": "code",
   "execution_count": 18,
   "metadata": {},
   "outputs": [
    {
     "data": {
      "text/plain": [
       "False"
      ]
     },
     "execution_count": 18,
     "metadata": {},
     "output_type": "execute_result"
    }
   ],
   "source": [
    "nm.has_host(\"www.baidu.com\")"
   ]
  },
  {
   "cell_type": "code",
   "execution_count": 19,
   "metadata": {},
   "outputs": [
    {
     "data": {
      "text/plain": [
       "True"
      ]
     },
     "execution_count": 19,
     "metadata": {},
     "output_type": "execute_result"
    }
   ],
   "source": [
    "nm.has_host(\"14.215.177.38\")"
   ]
  },
  {
   "cell_type": "code",
   "execution_count": 20,
   "metadata": {},
   "outputs": [
    {
     "data": {
      "text/plain": [
       "False"
      ]
     },
     "execution_count": 20,
     "metadata": {},
     "output_type": "execute_result"
    }
   ],
   "source": [
    "nm.has_host(\"14.215.177.138\")"
   ]
  },
  {
   "cell_type": "markdown",
   "metadata": {},
   "source": [
    "## 字典的索引用法\n",
    "因为返回值是字典类型，所以可以使用字典的相关索引方法"
   ]
  },
  {
   "cell_type": "code",
   "execution_count": 28,
   "metadata": {},
   "outputs": [
    {
     "data": {
      "text/plain": [
       "'www.baidu.com'"
      ]
     },
     "execution_count": 28,
     "metadata": {},
     "output_type": "execute_result"
    }
   ],
   "source": [
    "nm['14.215.177.38'].hostname()"
   ]
  },
  {
   "cell_type": "code",
   "execution_count": 31,
   "metadata": {},
   "outputs": [
    {
     "data": {
      "text/plain": [
       "'up'"
      ]
     },
     "execution_count": 31,
     "metadata": {},
     "output_type": "execute_result"
    }
   ],
   "source": [
    "nm['14.215.177.38'].state()"
   ]
  },
  {
   "cell_type": "code",
   "execution_count": 32,
   "metadata": {},
   "outputs": [
    {
     "data": {
      "text/plain": [
       "['tcp']"
      ]
     },
     "execution_count": 32,
     "metadata": {},
     "output_type": "execute_result"
    }
   ],
   "source": [
    "nm['14.215.177.38'].all_protocols()"
   ]
  },
  {
   "cell_type": "code",
   "execution_count": 33,
   "metadata": {},
   "outputs": [
    {
     "data": {
      "text/plain": [
       "dict_values([[{'name': 'www.baidu.com', 'type': 'user'}], {'ipv4': '14.215.177.38'}, {}, {'state': 'up', 'reason': 'reset'}, {25: {'state': 'open', 'reason': 'syn-ack', 'name': 'smtp', 'product': '', 'version': '', 'extrainfo': '', 'conf': '3', 'cpe': ''}, 80: {'state': 'open', 'reason': 'syn-ack', 'name': 'http', 'product': '', 'version': '', 'extrainfo': '', 'conf': '3', 'cpe': ''}, 110: {'state': 'open', 'reason': 'syn-ack', 'name': 'pop3', 'product': '', 'version': '', 'extrainfo': '', 'conf': '3', 'cpe': ''}, 443: {'state': 'open', 'reason': 'syn-ack', 'name': 'https', 'product': '', 'version': '', 'extrainfo': '', 'conf': '3', 'cpe': ''}}])"
      ]
     },
     "execution_count": 33,
     "metadata": {},
     "output_type": "execute_result"
    }
   ],
   "source": [
    "nm['14.215.177.38'].values()"
   ]
  },
  {
   "cell_type": "code",
   "execution_count": 34,
   "metadata": {},
   "outputs": [
    {
     "data": {
      "text/plain": [
       "<bound method PortScannerHostDict.tcp of {'hostnames': [{'name': 'www.baidu.com', 'type': 'user'}], 'addresses': {'ipv4': '14.215.177.38'}, 'vendor': {}, 'status': {'state': 'up', 'reason': 'reset'}, 'tcp': {25: {'state': 'open', 'reason': 'syn-ack', 'name': 'smtp', 'product': '', 'version': '', 'extrainfo': '', 'conf': '3', 'cpe': ''}, 80: {'state': 'open', 'reason': 'syn-ack', 'name': 'http', 'product': '', 'version': '', 'extrainfo': '', 'conf': '3', 'cpe': ''}, 110: {'state': 'open', 'reason': 'syn-ack', 'name': 'pop3', 'product': '', 'version': '', 'extrainfo': '', 'conf': '3', 'cpe': ''}, 443: {'state': 'open', 'reason': 'syn-ack', 'name': 'https', 'product': '', 'version': '', 'extrainfo': '', 'conf': '3', 'cpe': ''}}}>"
      ]
     },
     "execution_count": 34,
     "metadata": {},
     "output_type": "execute_result"
    }
   ],
   "source": [
    "nm['14.215.177.38'].tcp"
   ]
  },
  {
   "cell_type": "code",
   "execution_count": 35,
   "metadata": {},
   "outputs": [
    {
     "data": {
      "text/plain": [
       "<bound method PortScannerHostDict.all_tcp of {'hostnames': [{'name': 'www.baidu.com', 'type': 'user'}], 'addresses': {'ipv4': '14.215.177.38'}, 'vendor': {}, 'status': {'state': 'up', 'reason': 'reset'}, 'tcp': {25: {'state': 'open', 'reason': 'syn-ack', 'name': 'smtp', 'product': '', 'version': '', 'extrainfo': '', 'conf': '3', 'cpe': ''}, 80: {'state': 'open', 'reason': 'syn-ack', 'name': 'http', 'product': '', 'version': '', 'extrainfo': '', 'conf': '3', 'cpe': ''}, 110: {'state': 'open', 'reason': 'syn-ack', 'name': 'pop3', 'product': '', 'version': '', 'extrainfo': '', 'conf': '3', 'cpe': ''}, 443: {'state': 'open', 'reason': 'syn-ack', 'name': 'https', 'product': '', 'version': '', 'extrainfo': '', 'conf': '3', 'cpe': ''}}}>"
      ]
     },
     "execution_count": 35,
     "metadata": {},
     "output_type": "execute_result"
    }
   ],
   "source": [
    "nm['14.215.177.38'].all_tcp"
   ]
  },
  {
   "cell_type": "code",
   "execution_count": 42,
   "metadata": {},
   "outputs": [
    {
     "data": {
      "text/plain": [
       "{25: {'state': 'open',\n",
       "  'reason': 'syn-ack',\n",
       "  'name': 'smtp',\n",
       "  'product': '',\n",
       "  'version': '',\n",
       "  'extrainfo': '',\n",
       "  'conf': '3',\n",
       "  'cpe': ''},\n",
       " 80: {'state': 'open',\n",
       "  'reason': 'syn-ack',\n",
       "  'name': 'http',\n",
       "  'product': '',\n",
       "  'version': '',\n",
       "  'extrainfo': '',\n",
       "  'conf': '3',\n",
       "  'cpe': ''},\n",
       " 110: {'state': 'open',\n",
       "  'reason': 'syn-ack',\n",
       "  'name': 'pop3',\n",
       "  'product': '',\n",
       "  'version': '',\n",
       "  'extrainfo': '',\n",
       "  'conf': '3',\n",
       "  'cpe': ''},\n",
       " 443: {'state': 'open',\n",
       "  'reason': 'syn-ack',\n",
       "  'name': 'https',\n",
       "  'product': '',\n",
       "  'version': '',\n",
       "  'extrainfo': '',\n",
       "  'conf': '3',\n",
       "  'cpe': ''}}"
      ]
     },
     "execution_count": 42,
     "metadata": {},
     "output_type": "execute_result"
    }
   ],
   "source": [
    "nm['14.215.177.38']['tcp']"
   ]
  },
  {
   "cell_type": "code",
   "execution_count": 43,
   "metadata": {},
   "outputs": [
    {
     "data": {
      "text/plain": [
       "{'hostnames': [{'name': 'www.baidu.com', 'type': 'user'}],\n",
       " 'addresses': {'ipv4': '14.215.177.38'},\n",
       " 'vendor': {},\n",
       " 'status': {'state': 'up', 'reason': 'reset'},\n",
       " 'tcp': {25: {'state': 'open',\n",
       "   'reason': 'syn-ack',\n",
       "   'name': 'smtp',\n",
       "   'product': '',\n",
       "   'version': '',\n",
       "   'extrainfo': '',\n",
       "   'conf': '3',\n",
       "   'cpe': ''},\n",
       "  80: {'state': 'open',\n",
       "   'reason': 'syn-ack',\n",
       "   'name': 'http',\n",
       "   'product': '',\n",
       "   'version': '',\n",
       "   'extrainfo': '',\n",
       "   'conf': '3',\n",
       "   'cpe': ''},\n",
       "  110: {'state': 'open',\n",
       "   'reason': 'syn-ack',\n",
       "   'name': 'pop3',\n",
       "   'product': '',\n",
       "   'version': '',\n",
       "   'extrainfo': '',\n",
       "   'conf': '3',\n",
       "   'cpe': ''},\n",
       "  443: {'state': 'open',\n",
       "   'reason': 'syn-ack',\n",
       "   'name': 'https',\n",
       "   'product': '',\n",
       "   'version': '',\n",
       "   'extrainfo': '',\n",
       "   'conf': '3',\n",
       "   'cpe': ''}}}"
      ]
     },
     "execution_count": 43,
     "metadata": {},
     "output_type": "execute_result"
    }
   ],
   "source": [
    "nm['14.215.177.38']"
   ]
  },
  {
   "cell_type": "code",
   "execution_count": 44,
   "metadata": {},
   "outputs": [
    {
     "data": {
      "text/plain": [
       "{25: {'state': 'open',\n",
       "  'reason': 'syn-ack',\n",
       "  'name': 'smtp',\n",
       "  'product': '',\n",
       "  'version': '',\n",
       "  'extrainfo': '',\n",
       "  'conf': '3',\n",
       "  'cpe': ''},\n",
       " 80: {'state': 'open',\n",
       "  'reason': 'syn-ack',\n",
       "  'name': 'http',\n",
       "  'product': '',\n",
       "  'version': '',\n",
       "  'extrainfo': '',\n",
       "  'conf': '3',\n",
       "  'cpe': ''},\n",
       " 110: {'state': 'open',\n",
       "  'reason': 'syn-ack',\n",
       "  'name': 'pop3',\n",
       "  'product': '',\n",
       "  'version': '',\n",
       "  'extrainfo': '',\n",
       "  'conf': '3',\n",
       "  'cpe': ''},\n",
       " 443: {'state': 'open',\n",
       "  'reason': 'syn-ack',\n",
       "  'name': 'https',\n",
       "  'product': '',\n",
       "  'version': '',\n",
       "  'extrainfo': '',\n",
       "  'conf': '3',\n",
       "  'cpe': ''}}"
      ]
     },
     "execution_count": 44,
     "metadata": {},
     "output_type": "execute_result"
    }
   ],
   "source": [
    "nm['14.215.177.38']['tcp']"
   ]
  },
  {
   "cell_type": "code",
   "execution_count": 45,
   "metadata": {},
   "outputs": [
    {
     "data": {
      "text/plain": [
       "{'state': 'open',\n",
       " 'reason': 'syn-ack',\n",
       " 'name': 'https',\n",
       " 'product': '',\n",
       " 'version': '',\n",
       " 'extrainfo': '',\n",
       " 'conf': '3',\n",
       " 'cpe': ''}"
      ]
     },
     "execution_count": 45,
     "metadata": {},
     "output_type": "execute_result"
    }
   ],
   "source": [
    "nm['14.215.177.38']['tcp'][443]"
   ]
  },
  {
   "cell_type": "code",
   "execution_count": 48,
   "metadata": {},
   "outputs": [
    {
     "data": {
      "text/plain": [
       "'https'"
      ]
     },
     "execution_count": 48,
     "metadata": {},
     "output_type": "execute_result"
    }
   ],
   "source": [
    "nm['14.215.177.38']['tcp'][443][\"name\"]"
   ]
  },
  {
   "cell_type": "code",
   "execution_count": 50,
   "metadata": {},
   "outputs": [
    {
     "name": "stdout",
     "output_type": "stream",
     "text": [
      "<nmap.nmap.PortScanner object at 0x7f77f8e186a0>\n"
     ]
    }
   ],
   "source": []
  },
  {
   "cell_type": "markdown",
   "metadata": {},
   "source": [
    "# PostScannerAsync\n",
    "\n",
    "PortScannerAsync 最为重要的函数也是scan()，用法与PortScanner类中scan()基本一样，但是多了一个回调函数，完整的scan()函数格式为 \n",
    "\n",
    "```python\n",
    "scan(self, hosts='127.0.0.1’, ports=None, arguments='-sV’, callback=None, sudo=False) \n",
    "```\n",
    "这里面的 callback 是以(host, scan_data)为参数的函数"
   ]
  },
  {
   "cell_type": "code",
   "execution_count": 57,
   "metadata": {},
   "outputs": [
    {
     "name": "stdout",
     "output_type": "stream",
     "text": [
      "Help on PortScannerAsync in module nmap.nmap object:\n",
      "\n",
      "class PortScannerAsync(builtins.object)\n",
      " |  PortScannerAsync allows to use nmap from python asynchronously\n",
      " |  for each host scanned, callback is called with scan result for the host\n",
      " |  \n",
      " |  Methods defined here:\n",
      " |  \n",
      " |  __del__(self)\n",
      " |      Cleanup when deleted\n",
      " |  \n",
      " |  __init__(self)\n",
      " |      Initialize the module\n",
      " |      \n",
      " |      * detects nmap on the system and nmap version\n",
      " |      * may raise PortScannerError exception if nmap is not found in the path\n",
      " |  \n",
      " |  scan(self, hosts='127.0.0.1', ports=None, arguments='-sV', callback=None, sudo=False, timeout=0)\n",
      " |      Scan given hosts in a separate process and return host by host result using callback function\n",
      " |      \n",
      " |      PortScannerError exception from standard nmap is catched and you won't know about but get None as scan_data\n",
      " |      \n",
      " |      :param hosts: string for hosts as nmap use it 'scanme.nmap.org' or '198.116.0-255.1-127' or '216.163.128.20/20'\n",
      " |      :param ports: string for ports as nmap use it '22,53,110,143-4564'\n",
      " |      :param arguments: string of arguments for nmap '-sU -sX -sC'\n",
      " |      :param callback: callback function which takes (host, scan_data) as arguments\n",
      " |      :param sudo: launch nmap with sudo if true\n",
      " |      :param timeout: int, if > zero, will terminate scan after seconds, otherwise will wait indefintely\n",
      " |  \n",
      " |  still_scanning(self)\n",
      " |      :returns: True if a scan is currently running, False otherwise\n",
      " |  \n",
      " |  stop(self)\n",
      " |      Stop the current scan process\n",
      " |  \n",
      " |  wait(self, timeout=None)\n",
      " |      Wait for the current scan process to finish, or timeout\n",
      " |      \n",
      " |      :param timeout: default = None, wait timeout seconds\n",
      " |  \n",
      " |  ----------------------------------------------------------------------\n",
      " |  Data descriptors defined here:\n",
      " |  \n",
      " |  __dict__\n",
      " |      dictionary for instance variables (if defined)\n",
      " |  \n",
      " |  __weakref__\n",
      " |      list of weak references to the object (if defined)\n",
      "\n"
     ]
    }
   ],
   "source": [
    "nma = nmap.PortScannerAsync()\n",
    "help(nma)"
   ]
  },
  {
   "cell_type": "code",
   "execution_count": 55,
   "metadata": {},
   "outputs": [
    {
     "name": "stdout",
     "output_type": "stream",
     "text": [
      "\u001b[0;31mSignature:\u001b[0m\n",
      "\u001b[0mnma\u001b[0m\u001b[0;34m.\u001b[0m\u001b[0mscan\u001b[0m\u001b[0;34m(\u001b[0m\u001b[0;34m\u001b[0m\n",
      "\u001b[0;34m\u001b[0m    \u001b[0mhosts\u001b[0m\u001b[0;34m=\u001b[0m\u001b[0;34m'127.0.0.1'\u001b[0m\u001b[0;34m,\u001b[0m\u001b[0;34m\u001b[0m\n",
      "\u001b[0;34m\u001b[0m    \u001b[0mports\u001b[0m\u001b[0;34m=\u001b[0m\u001b[0;32mNone\u001b[0m\u001b[0;34m,\u001b[0m\u001b[0;34m\u001b[0m\n",
      "\u001b[0;34m\u001b[0m    \u001b[0marguments\u001b[0m\u001b[0;34m=\u001b[0m\u001b[0;34m'-sV'\u001b[0m\u001b[0;34m,\u001b[0m\u001b[0;34m\u001b[0m\n",
      "\u001b[0;34m\u001b[0m    \u001b[0mcallback\u001b[0m\u001b[0;34m=\u001b[0m\u001b[0;32mNone\u001b[0m\u001b[0;34m,\u001b[0m\u001b[0;34m\u001b[0m\n",
      "\u001b[0;34m\u001b[0m    \u001b[0msudo\u001b[0m\u001b[0;34m=\u001b[0m\u001b[0;32mFalse\u001b[0m\u001b[0;34m,\u001b[0m\u001b[0;34m\u001b[0m\n",
      "\u001b[0;34m\u001b[0m    \u001b[0mtimeout\u001b[0m\u001b[0;34m=\u001b[0m\u001b[0;36m0\u001b[0m\u001b[0;34m,\u001b[0m\u001b[0;34m\u001b[0m\n",
      "\u001b[0;34m\u001b[0m\u001b[0;34m)\u001b[0m\u001b[0;34m\u001b[0m\u001b[0;34m\u001b[0m\u001b[0m\n",
      "\u001b[0;31mDocstring:\u001b[0m\n",
      "Scan given hosts in a separate process and return host by host result using callback function\n",
      "\n",
      "PortScannerError exception from standard nmap is catched and you won't know about but get None as scan_data\n",
      "\n",
      ":param hosts: string for hosts as nmap use it 'scanme.nmap.org' or '198.116.0-255.1-127' or '216.163.128.20/20'\n",
      ":param ports: string for ports as nmap use it '22,53,110,143-4564'\n",
      ":param arguments: string of arguments for nmap '-sU -sX -sC'\n",
      ":param callback: callback function which takes (host, scan_data) as arguments\n",
      ":param sudo: launch nmap with sudo if true\n",
      ":param timeout: int, if > zero, will terminate scan after seconds, otherwise will wait indefintely\n",
      "\u001b[0;31mFile:\u001b[0m      /usr/local/lib/python3.9/dist-packages/nmap/nmap.py\n",
      "\u001b[0;31mType:\u001b[0m      method\n"
     ]
    }
   ],
   "source": [
    "?nma.scan"
   ]
  },
  {
   "cell_type": "code",
   "execution_count": null,
   "metadata": {},
   "outputs": [],
   "source": []
  }
 ],
 "metadata": {
  "kernelspec": {
   "display_name": "Python 3.9.2 64-bit",
   "language": "python",
   "name": "python3"
  },
  "language_info": {
   "codemirror_mode": {
    "name": "ipython",
    "version": 3
   },
   "file_extension": ".py",
   "mimetype": "text/x-python",
   "name": "python",
   "nbconvert_exporter": "python",
   "pygments_lexer": "ipython3",
   "version": "3.9.2"
  },
  "orig_nbformat": 4,
  "vscode": {
   "interpreter": {
    "hash": "916dbcbb3f70747c44a77c7bcd40155683ae19c65e1c03b4aa3499c5328201f1"
   }
  }
 },
 "nbformat": 4,
 "nbformat_minor": 2
}
